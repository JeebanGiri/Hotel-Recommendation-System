{
 "cells": [
  {
   "cell_type": "markdown",
   "id": "28af799c",
   "metadata": {},
   "source": [
    "# Import all the Libraries"
   ]
  },
  {
   "cell_type": "code",
   "execution_count": 2,
   "id": "e4f2cee9",
   "metadata": {},
   "outputs": [],
   "source": [
    "# Import necessary libraries\n",
    "import pandas as pd\n",
    "import numpy as np\n",
    "from sklearn.model_selection import train_test_split\n",
    "from sklearn.feature_extraction.text import TfidfVectorizer\n",
    "from sklearn.metrics.pairwise import linear_kernel\n",
    "from scipy.sparse import csr_matrix"
   ]
  },
  {
   "cell_type": "markdown",
   "id": "5b35f0d3",
   "metadata": {},
   "source": [
    "# Fetching the data"
   ]
  },
  {
   "cell_type": "code",
   "execution_count": 3,
   "id": "e8d8b32a",
   "metadata": {},
   "outputs": [],
   "source": [
    "# Load .CSV dataset\n",
    "hotel_details_df = pd.read_csv('Hotel_details.csv', sep=',')\n",
    "# Include All Rows of data in same random order\n",
    "hotel_details_df = hotel_details_df.sample(frac=1, random_state=99)"
   ]
  },
  {
   "cell_type": "code",
   "execution_count": 4,
   "id": "2953e51f",
   "metadata": {},
   "outputs": [
    {
     "data": {
      "text/plain": [
       "(5009, 14)"
      ]
     },
     "execution_count": 4,
     "metadata": {},
     "output_type": "execute_result"
    }
   ],
   "source": [
    "hotel_details_df.shape"
   ]
  },
  {
   "cell_type": "code",
   "execution_count": 5,
   "id": "fbe2b5ec",
   "metadata": {},
   "outputs": [
    {
     "data": {
      "text/html": [
       "<div>\n",
       "<style scoped>\n",
       "    .dataframe tbody tr th:only-of-type {\n",
       "        vertical-align: middle;\n",
       "    }\n",
       "\n",
       "    .dataframe tbody tr th {\n",
       "        vertical-align: top;\n",
       "    }\n",
       "\n",
       "    .dataframe thead th {\n",
       "        text-align: right;\n",
       "    }\n",
       "</style>\n",
       "<table border=\"1\" class=\"dataframe\">\n",
       "  <thead>\n",
       "    <tr style=\"text-align: right;\">\n",
       "      <th></th>\n",
       "      <th>id</th>\n",
       "      <th>hotelid</th>\n",
       "      <th>hotelname</th>\n",
       "      <th>address</th>\n",
       "      <th>city</th>\n",
       "      <th>country</th>\n",
       "      <th>zipcode</th>\n",
       "      <th>propertytype</th>\n",
       "      <th>starrating</th>\n",
       "      <th>latitude</th>\n",
       "      <th>longitude</th>\n",
       "      <th>Source</th>\n",
       "      <th>url</th>\n",
       "      <th>curr</th>\n",
       "    </tr>\n",
       "  </thead>\n",
       "  <tbody>\n",
       "    <tr>\n",
       "      <th>1211</th>\n",
       "      <td>47617</td>\n",
       "      <td>179762</td>\n",
       "      <td>Hotel Everest</td>\n",
       "      <td>Uzinei nr 16-18</td>\n",
       "      <td>Targu-Mures</td>\n",
       "      <td>Romania</td>\n",
       "      <td>540307.0</td>\n",
       "      <td>Hotels</td>\n",
       "      <td>3</td>\n",
       "      <td>46.550536</td>\n",
       "      <td>24.552354</td>\n",
       "      <td>2</td>\n",
       "      <td>http://www.booking.com/hotel/ro/everest.en-gb....</td>\n",
       "      <td>RON</td>\n",
       "    </tr>\n",
       "    <tr>\n",
       "      <th>4240</th>\n",
       "      <td>50645</td>\n",
       "      <td>73907</td>\n",
       "      <td>Hilton London Canary Wharf Hotel</td>\n",
       "      <td>South Quay, Marsh Wall</td>\n",
       "      <td>London</td>\n",
       "      <td>United Kingdom</td>\n",
       "      <td>NaN</td>\n",
       "      <td>Hotels</td>\n",
       "      <td>4</td>\n",
       "      <td>51.500702</td>\n",
       "      <td>-0.017100</td>\n",
       "      <td>5</td>\n",
       "      <td>https://www.agoda.com/en-gb/hilton-london-cana...</td>\n",
       "      <td>GBP</td>\n",
       "    </tr>\n",
       "    <tr>\n",
       "      <th>201</th>\n",
       "      <td>46606</td>\n",
       "      <td>1776961</td>\n",
       "      <td>Camping L'Adrech</td>\n",
       "      <td>Route du Pont dAllons</td>\n",
       "      <td>La Mure</td>\n",
       "      <td>France</td>\n",
       "      <td>4170.0</td>\n",
       "      <td>Campsites</td>\n",
       "      <td>2</td>\n",
       "      <td>44.006754</td>\n",
       "      <td>6.558525</td>\n",
       "      <td>2</td>\n",
       "      <td>http://www.booking.com/hotel/fr/camping-l-adre...</td>\n",
       "      <td>EUR</td>\n",
       "    </tr>\n",
       "    <tr>\n",
       "      <th>1821</th>\n",
       "      <td>48227</td>\n",
       "      <td>7272362</td>\n",
       "      <td>Luxury Apartment Cristin</td>\n",
       "      <td>Put Znjana 33</td>\n",
       "      <td>Split</td>\n",
       "      <td>Croatia</td>\n",
       "      <td>21000.0</td>\n",
       "      <td>Hotels</td>\n",
       "      <td>4</td>\n",
       "      <td>43.503792</td>\n",
       "      <td>16.492359</td>\n",
       "      <td>5</td>\n",
       "      <td>https://www.agoda.com/en-gb/luxury-apartment-c...</td>\n",
       "      <td>EUR</td>\n",
       "    </tr>\n",
       "    <tr>\n",
       "      <th>2536</th>\n",
       "      <td>48940</td>\n",
       "      <td>180572</td>\n",
       "      <td>Hotel La Bastide</td>\n",
       "      <td>Place Des Pins Penches Saint-Clair Le Lavandou</td>\n",
       "      <td>Le Lavandou</td>\n",
       "      <td>France</td>\n",
       "      <td>83980.0</td>\n",
       "      <td>Hotels</td>\n",
       "      <td>2</td>\n",
       "      <td>43.141345</td>\n",
       "      <td>6.380000</td>\n",
       "      <td>2</td>\n",
       "      <td>http://www.booking.com/hotel/fr/la-bastide-le-...</td>\n",
       "      <td>EUR</td>\n",
       "    </tr>\n",
       "    <tr>\n",
       "      <th>2116</th>\n",
       "      <td>48522</td>\n",
       "      <td>7303380</td>\n",
       "      <td>Gites de Brion</td>\n",
       "      <td>14 route de Brion</td>\n",
       "      <td>Sartilly</td>\n",
       "      <td>France</td>\n",
       "      <td>50530.0</td>\n",
       "      <td>Hotels</td>\n",
       "      <td>2</td>\n",
       "      <td>48.698330</td>\n",
       "      <td>-1.492470</td>\n",
       "      <td>5</td>\n",
       "      <td>https://www.agoda.com/en-gb/gites-de-brion/hot...</td>\n",
       "      <td>EUR</td>\n",
       "    </tr>\n",
       "    <tr>\n",
       "      <th>330</th>\n",
       "      <td>46736</td>\n",
       "      <td>1783442</td>\n",
       "      <td>Villa Petrusa</td>\n",
       "      <td>Via Soldato Panettieri 4</td>\n",
       "      <td>Stromboli</td>\n",
       "      <td>Italy</td>\n",
       "      <td>98050.0</td>\n",
       "      <td>Hotels</td>\n",
       "      <td>2</td>\n",
       "      <td>38.806232</td>\n",
       "      <td>15.232370</td>\n",
       "      <td>2</td>\n",
       "      <td>http://www.booking.com/hotel/it/villa-petrusa....</td>\n",
       "      <td>EUR</td>\n",
       "    </tr>\n",
       "    <tr>\n",
       "      <th>411</th>\n",
       "      <td>46817</td>\n",
       "      <td>17861</td>\n",
       "      <td>Relais &amp; Chateaux Palazzo Seneca</td>\n",
       "      <td>Via Cesare Battisti 12</td>\n",
       "      <td>Norcia</td>\n",
       "      <td>Italy</td>\n",
       "      <td>6046.0</td>\n",
       "      <td>Hotels</td>\n",
       "      <td>4</td>\n",
       "      <td>42.792633</td>\n",
       "      <td>13.092156</td>\n",
       "      <td>2</td>\n",
       "      <td>http://www.booking.com/hotel/it/palazzo-seneca...</td>\n",
       "      <td>EUR</td>\n",
       "    </tr>\n",
       "    <tr>\n",
       "      <th>2137</th>\n",
       "      <td>48543</td>\n",
       "      <td>7305431</td>\n",
       "      <td>Holiday Home Son Serra</td>\n",
       "      <td>NaN</td>\n",
       "      <td>Majorca</td>\n",
       "      <td>Spain</td>\n",
       "      <td>7459.0</td>\n",
       "      <td>Hotels</td>\n",
       "      <td>3</td>\n",
       "      <td>39.735748</td>\n",
       "      <td>3.227680</td>\n",
       "      <td>5</td>\n",
       "      <td>https://www.agoda.com/en-gb/holiday-home-son-s...</td>\n",
       "      <td>EUR</td>\n",
       "    </tr>\n",
       "    <tr>\n",
       "      <th>743</th>\n",
       "      <td>47148</td>\n",
       "      <td>720195</td>\n",
       "      <td>Hotel Poienita</td>\n",
       "      <td>Calea Beiusului, Nr. 26</td>\n",
       "      <td>Baile Felix</td>\n",
       "      <td>Romania</td>\n",
       "      <td>417500.0</td>\n",
       "      <td>Hotels</td>\n",
       "      <td>3</td>\n",
       "      <td>46.993360</td>\n",
       "      <td>21.983149</td>\n",
       "      <td>2</td>\n",
       "      <td>http://www.booking.com/hotel/ro/poienita-baile...</td>\n",
       "      <td>RON</td>\n",
       "    </tr>\n",
       "  </tbody>\n",
       "</table>\n",
       "</div>"
      ],
      "text/plain": [
       "         id  hotelid                         hotelname  \\\n",
       "1211  47617   179762                     Hotel Everest   \n",
       "4240  50645    73907  Hilton London Canary Wharf Hotel   \n",
       "201   46606  1776961                  Camping L'Adrech   \n",
       "1821  48227  7272362          Luxury Apartment Cristin   \n",
       "2536  48940   180572                  Hotel La Bastide   \n",
       "2116  48522  7303380                    Gites de Brion   \n",
       "330   46736  1783442                     Villa Petrusa   \n",
       "411   46817    17861  Relais & Chateaux Palazzo Seneca   \n",
       "2137  48543  7305431            Holiday Home Son Serra   \n",
       "743   47148   720195                    Hotel Poienita   \n",
       "\n",
       "                                             address         city  \\\n",
       "1211                                 Uzinei nr 16-18  Targu-Mures   \n",
       "4240                          South Quay, Marsh Wall       London   \n",
       "201                            Route du Pont dAllons      La Mure   \n",
       "1821                                   Put Znjana 33        Split   \n",
       "2536  Place Des Pins Penches Saint-Clair Le Lavandou  Le Lavandou   \n",
       "2116                               14 route de Brion     Sartilly   \n",
       "330                         Via Soldato Panettieri 4    Stromboli   \n",
       "411                           Via Cesare Battisti 12       Norcia   \n",
       "2137                                             NaN      Majorca   \n",
       "743                          Calea Beiusului, Nr. 26  Baile Felix   \n",
       "\n",
       "             country   zipcode propertytype  starrating   latitude  longitude  \\\n",
       "1211         Romania  540307.0       Hotels           3  46.550536  24.552354   \n",
       "4240  United Kingdom       NaN       Hotels           4  51.500702  -0.017100   \n",
       "201           France    4170.0    Campsites           2  44.006754   6.558525   \n",
       "1821         Croatia   21000.0       Hotels           4  43.503792  16.492359   \n",
       "2536          France   83980.0       Hotels           2  43.141345   6.380000   \n",
       "2116          France   50530.0       Hotels           2  48.698330  -1.492470   \n",
       "330            Italy   98050.0       Hotels           2  38.806232  15.232370   \n",
       "411            Italy    6046.0       Hotels           4  42.792633  13.092156   \n",
       "2137           Spain    7459.0       Hotels           3  39.735748   3.227680   \n",
       "743          Romania  417500.0       Hotels           3  46.993360  21.983149   \n",
       "\n",
       "      Source                                                url curr  \n",
       "1211       2  http://www.booking.com/hotel/ro/everest.en-gb....  RON  \n",
       "4240       5  https://www.agoda.com/en-gb/hilton-london-cana...  GBP  \n",
       "201        2  http://www.booking.com/hotel/fr/camping-l-adre...  EUR  \n",
       "1821       5  https://www.agoda.com/en-gb/luxury-apartment-c...  EUR  \n",
       "2536       2  http://www.booking.com/hotel/fr/la-bastide-le-...  EUR  \n",
       "2116       5  https://www.agoda.com/en-gb/gites-de-brion/hot...  EUR  \n",
       "330        2  http://www.booking.com/hotel/it/villa-petrusa....  EUR  \n",
       "411        2  http://www.booking.com/hotel/it/palazzo-seneca...  EUR  \n",
       "2137       5  https://www.agoda.com/en-gb/holiday-home-son-s...  EUR  \n",
       "743        2  http://www.booking.com/hotel/ro/poienita-baile...  RON  "
      ]
     },
     "execution_count": 5,
     "metadata": {},
     "output_type": "execute_result"
    }
   ],
   "source": [
    "# Get 10 hotels from top\n",
    "hotel_details_df.head(10)"
   ]
  },
  {
   "cell_type": "markdown",
   "id": "b622b4b9",
   "metadata": {},
   "source": [
    "# Data Cleaning and transformations"
   ]
  },
  {
   "cell_type": "code",
   "execution_count": 6,
   "id": "fabcd99e",
   "metadata": {},
   "outputs": [],
   "source": [
    "hotel_details_df = hotel_details_df.dropna()"
   ]
  },
  {
   "cell_type": "code",
   "execution_count": 7,
   "id": "75d42b35",
   "metadata": {},
   "outputs": [
    {
     "name": "stdout",
     "output_type": "stream",
     "text": [
      "There are 3777 rows and 14 columns\n"
     ]
    }
   ],
   "source": [
    "nRow, nCol = hotel_details_df.shape\n",
    "print(f'There are {nRow} rows and {nCol} columns')"
   ]
  },
  {
   "cell_type": "code",
   "execution_count": 8,
   "id": "7d7b6e5f",
   "metadata": {},
   "outputs": [],
   "source": [
    "hotel_details_df.drop_duplicates(subset='hotelid',keep=False,inplace=True)"
   ]
  },
  {
   "cell_type": "code",
   "execution_count": 9,
   "id": "2d8107b2",
   "metadata": {},
   "outputs": [
    {
     "name": "stdout",
     "output_type": "stream",
     "text": [
      "<class 'pandas.core.frame.DataFrame'>\n",
      "Index: 3661 entries, 1211 to 4737\n",
      "Data columns (total 14 columns):\n",
      " #   Column        Non-Null Count  Dtype  \n",
      "---  ------        --------------  -----  \n",
      " 0   id            3661 non-null   int64  \n",
      " 1   hotelid       3661 non-null   int64  \n",
      " 2   hotelname     3661 non-null   object \n",
      " 3   address       3661 non-null   object \n",
      " 4   city          3661 non-null   object \n",
      " 5   country       3661 non-null   object \n",
      " 6   zipcode       3661 non-null   float64\n",
      " 7   propertytype  3661 non-null   object \n",
      " 8   starrating    3661 non-null   int64  \n",
      " 9   latitude      3661 non-null   float64\n",
      " 10  longitude     3661 non-null   float64\n",
      " 11  Source        3661 non-null   int64  \n",
      " 12  url           3661 non-null   object \n",
      " 13  curr          3661 non-null   object \n",
      "dtypes: float64(3), int64(4), object(7)\n",
      "memory usage: 429.0+ KB\n"
     ]
    }
   ],
   "source": [
    "hotel_details_df.info()"
   ]
  },
  {
   "cell_type": "code",
   "execution_count": 10,
   "id": "c3ba69fe",
   "metadata": {},
   "outputs": [
    {
     "data": {
      "text/plain": [
       "Index(['id', 'hotelid', 'hotelname', 'address', 'city', 'country', 'zipcode',\n",
       "       'propertytype', 'starrating', 'latitude', 'longitude', 'Source', 'url',\n",
       "       'curr'],\n",
       "      dtype='object')"
      ]
     },
     "execution_count": 10,
     "metadata": {},
     "output_type": "execute_result"
    }
   ],
   "source": [
    "hotel_details_df.columns"
   ]
  },
  {
   "cell_type": "markdown",
   "id": "97d6cebe",
   "metadata": {},
   "source": [
    "# Histogram Plot"
   ]
  },
  {
   "cell_type": "code",
   "execution_count": 24,
   "id": "cd1730de",
   "metadata": {},
   "outputs": [
    {
     "data": {
      "image/png": "[encoded data removed]",
      "text/plain": [
       "<Figure size 2000x1500 with 9 Axes>"
      ]
     },
     "metadata": {},
     "output_type": "display_data"
    }
   ],
   "source": [
    "hotel_details_df.hist(bins=50, figsize=(20,15));"
   ]
  },
  {
   "cell_type": "markdown",
   "id": "06358908",
   "metadata": {},
   "source": [
    "# Data Processing"
   ]
  },
  {
   "cell_type": "code",
   "execution_count": 29,
   "id": "311291bf",
   "metadata": {},
   "outputs": [],
   "source": [
    "# Combine relevant text features\n",
    "hotel_details_df['combined_features'] = hotel_details_df['hotelname'] + ' ' + hotel_details_df['city'] + ' ' + hotel_details_df['country'] + ' ' + hotel_details_df['propertytype']"
   ]
  },
  {
   "cell_type": "code",
   "execution_count": 30,
   "id": "5facbabd",
   "metadata": {},
   "outputs": [],
   "source": [
    "# Split data into training and testing sets\n",
    "train_data, test_data = train_test_split(hotel_details_df, test_size=0.2, random_state=42)"
   ]
  },
  {
   "cell_type": "code",
   "execution_count": 31,
   "id": "dc10e960",
   "metadata": {},
   "outputs": [],
   "source": [
    "# Create TF-IDF vectorizer\n",
    "tfidf_vectorizer = TfidfVectorizer(stop_words='english')"
   ]
  },
  {
   "cell_type": "code",
   "execution_count": 34,
   "id": "afaeb96e",
   "metadata": {},
   "outputs": [],
   "source": [
    "# Fit and transform the combined features for the training data\n",
    "tfidf_matrix = tfidf_vectorizer.fit_transform(train_data['combined_features'])"
   ]
  },
  {
   "cell_type": "code",
   "execution_count": 15,
   "id": "31a10d75",
   "metadata": {},
   "outputs": [],
   "source": [
    "# Assuming tfidf_matrix is a sparse matrix\n",
    "tfidf_matrix = csr_matrix(tfidf_matrix)"
   ]
  },
  {
   "cell_type": "code",
   "execution_count": 16,
   "id": "b9c9f352",
   "metadata": {},
   "outputs": [],
   "source": [
    "# Use linear_kernel for memory efficiency\n",
    "cosine_sim = linear_kernel(tfidf_matrix, tfidf_matrix)"
   ]
  },
  {
   "cell_type": "markdown",
   "id": "5351a482",
   "metadata": {},
   "source": [
    "# Recommender system based on city about the Hotel"
   ]
  },
  {
   "cell_type": "code",
   "execution_count": 17,
   "id": "23cc5c60",
   "metadata": {},
   "outputs": [],
   "source": [
    "def recommend_hotel_by_city(city, cosine_sim=cosine_sim, hotel_details_df=train_data):\n",
    "    # Filter data based on the given city\n",
    "    city_data = hotel_details_df[hotel_details_df['city'].str.lower() == city.lower()]\n",
    "\n",
    "    if city_data.empty:\n",
    "        return \"No hotels found for the specified city '{city}'.\"\n",
    "\n",
    "    # Create a sparse TF-IDF matrix for the filtered data\n",
    "    tfidf_matrix_city = csr_matrix(tfidf_vectorizer.transform(city_data['combined_features']))\n",
    "\n",
    "    # Calculate cosine similarity using linear_kernel\n",
    "    cosine_sim_city = linear_kernel(tfidf_matrix_city, tfidf_matrix)\n",
    "\n",
    "    # Get indices for the original dataset\n",
    "    indices = pd.Series(hotel_details_df.index, index=hotel_details_df['id'])\n",
    "\n",
    "    # Get the index of the first hotel in the filtered data\n",
    "    idx = indices[city_data['id'].iloc[0]]\n",
    "    \n",
    "    if idx is None or idx >= len(cosine_sim_city):\n",
    "        return f\"Invalid index or out of bounds for the specified city '{city}'.\"\n",
    "\n",
    "    # Get similarity scores\n",
    "    sim_scores = list(enumerate(cosine_sim_city[idx]))\n",
    "\n",
    "    # Sort hotels based on similarity scores\n",
    "    sim_scores = sorted(sim_scores, key=lambda x: x[1], reverse=True)\n",
    "    \n",
    "    # Get top 5 recommendations\n",
    "    hotel_indices = [i[0] for i in sim_scores[:5]]\n",
    "    return hotel_details_df['hotelname'].iloc[hotel_indices]"
   ]
  },
  {
   "cell_type": "markdown",
   "id": "fb9396f0",
   "metadata": {},
   "source": [
    "# Print Result"
   ]
  },
  {
   "cell_type": "code",
   "execution_count": 18,
   "id": "0c7e94fc",
   "metadata": {},
   "outputs": [
    {
     "name": "stdout",
     "output_type": "stream",
     "text": [
      "0        Mediteran Bungalow Galeb\n",
      "1068    Resort Village T.N. Milna\n",
      "4857            Mobile Home Relax\n",
      "2740           Mobile Home Rojnic\n",
      "3809           Adria Mobile Homes\n",
      "Name: hotelname, dtype: object\n"
     ]
    }
   ],
   "source": [
    "# Example: Recommend hotels similar to city \"Omis\"\n",
    "recommended_hotels_by_city = recommend_hotel_by_city(\"Omis\")\n",
    "print(recommended_hotels_by_city)"
   ]
  }
 ],
 "metadata": {
  "kernelspec": {
   "display_name": "Python 3 (ipykernel)",
   "language": "python",
   "name": "python3"
  },
  "language_info": {
   "codemirror_mode": {
    "name": "ipython",
    "version": 3
   },
   "file_extension": ".py",
   "mimetype": "text/x-python",
   "name": "python",
   "nbconvert_exporter": "python",
   "pygments_lexer": "ipython3",
   "version": "3.11.5"
  }
 },
 "nbformat": 4,
 "nbformat_minor": 5
}

{
 "cells": [
  {
   "cell_type": "code",
   "execution_count": 70,
   "id": "8986f16e",
   "metadata": {},
   "outputs": [],
   "source": [
    "# Import All required Libraries\n",
    "import numpy as np\n",
    "import pandas as pd\n",
    "import matplotlib.pyplot as plt\n",
    "import ast\n",
    "from sklearn.model_selection import train_test_split\n",
    "from sklearn.ensemble import RandomForestRegressor\n",
    "from sklearn.neighbors import KNeighborsRegressor\n",
    "from sklearn.metrics import mean_squared_error"
   ]
  },
  {
   "cell_type": "markdown",
   "id": "69b5f4bb",
   "metadata": {},
   "source": [
    "# Fetching the Data"
   ]
  },
  {
   "cell_type": "code",
   "execution_count": 71,
   "id": "35610852",
   "metadata": {},
   "outputs": [],
   "source": [
    "# Import DataSet\n",
    "hotel_details_df = pd.read_csv(\"Hotel_Info/Hotel_Info.csv\", sep=',')\n",
    "hotel_details_df = hotel_details_df.sample(frac=1, random_state=99)"
   ]
  },
  {
   "cell_type": "code",
   "execution_count": 72,
   "id": "66076f84",
   "metadata": {},
   "outputs": [
    {
     "data": {
      "text/plain": [
       "(11628, 8)"
      ]
     },
     "execution_count": 72,
     "metadata": {},
     "output_type": "execute_result"
    }
   ],
   "source": [
    "hotel_details_df.shape"
   ]
  },
  {
   "cell_type": "code",
   "execution_count": 73,
   "id": "5fd8f717",
   "metadata": {},
   "outputs": [
    {
     "data": {
      "text/html": [
       "<div>\n",
       "<style scoped>\n",
       "    .dataframe tbody tr th:only-of-type {\n",
       "        vertical-align: middle;\n",
       "    }\n",
       "\n",
       "    .dataframe tbody tr th {\n",
       "        vertical-align: top;\n",
       "    }\n",
       "\n",
       "    .dataframe thead th {\n",
       "        text-align: right;\n",
       "    }\n",
       "</style>\n",
       "<table border=\"1\" class=\"dataframe\">\n",
       "  <thead>\n",
       "    <tr style=\"text-align: right;\">\n",
       "      <th></th>\n",
       "      <th>Unnamed: 0</th>\n",
       "      <th>Code</th>\n",
       "      <th>City</th>\n",
       "      <th>Amenities</th>\n",
       "      <th>Latitude</th>\n",
       "      <th>Longitude</th>\n",
       "      <th>Price</th>\n",
       "      <th>Address</th>\n",
       "    </tr>\n",
       "  </thead>\n",
       "  <tbody>\n",
       "    <tr>\n",
       "      <th>325</th>\n",
       "      <td>325</td>\n",
       "      <td>1.228340e+18</td>\n",
       "      <td>Mukteshwar</td>\n",
       "      <td>['Sanitizers', 'Thermal screening at entry and...</td>\n",
       "      <td>29.402700</td>\n",
       "      <td>79.62700</td>\n",
       "      <td>843</td>\n",
       "      <td>Majhera, Pokhrad, Mukteshwar</td>\n",
       "    </tr>\n",
       "    <tr>\n",
       "      <th>6125</th>\n",
       "      <td>6125</td>\n",
       "      <td>5.312870e+18</td>\n",
       "      <td>Darjeeling</td>\n",
       "      <td>['Private Entrance ', 'Pickup/ Drop (Paid)', '...</td>\n",
       "      <td>26.977200</td>\n",
       "      <td>88.36240</td>\n",
       "      <td>2628</td>\n",
       "      <td>Mungpoo</td>\n",
       "    </tr>\n",
       "    <tr>\n",
       "      <th>4612</th>\n",
       "      <td>4612</td>\n",
       "      <td>4.193170e+18</td>\n",
       "      <td>Manali</td>\n",
       "      <td>['Power backup', 'Wifi (Free)', 'Housekeeping'...</td>\n",
       "      <td>32.220600</td>\n",
       "      <td>77.18600</td>\n",
       "      <td>2597</td>\n",
       "      <td>Kanyal Road,</td>\n",
       "    </tr>\n",
       "    <tr>\n",
       "      <th>4121</th>\n",
       "      <td>4121</td>\n",
       "      <td>3.844020e+18</td>\n",
       "      <td>Pushkar</td>\n",
       "      <td>['Sanitizers', 'Face shields (for hotel staff)...</td>\n",
       "      <td>26.481755</td>\n",
       "      <td>74.56147</td>\n",
       "      <td>1072</td>\n",
       "      <td>Hotel Blue Lotus, Vamdev Road, Near Gurudawara...</td>\n",
       "    </tr>\n",
       "    <tr>\n",
       "      <th>8671</th>\n",
       "      <td>8671</td>\n",
       "      <td>7.113130e+18</td>\n",
       "      <td>Ooty</td>\n",
       "      <td>['Gloves', 'Sanitizers', 'Housekeeping', 'Air ...</td>\n",
       "      <td>11.464200</td>\n",
       "      <td>76.67910</td>\n",
       "      <td>2693</td>\n",
       "      <td>8th Bend, Kalhatty, Ooty-Masinagudi Road, Ooty...</td>\n",
       "    </tr>\n",
       "  </tbody>\n",
       "</table>\n",
       "</div>"
      ],
      "text/plain": [
       "      Unnamed: 0          Code        City  \\\n",
       "325          325  1.228340e+18  Mukteshwar   \n",
       "6125        6125  5.312870e+18  Darjeeling   \n",
       "4612        4612  4.193170e+18      Manali   \n",
       "4121        4121  3.844020e+18     Pushkar   \n",
       "8671        8671  7.113130e+18        Ooty   \n",
       "\n",
       "                                              Amenities   Latitude  Longitude  \\\n",
       "325   ['Sanitizers', 'Thermal screening at entry and...  29.402700   79.62700   \n",
       "6125  ['Private Entrance ', 'Pickup/ Drop (Paid)', '...  26.977200   88.36240   \n",
       "4612  ['Power backup', 'Wifi (Free)', 'Housekeeping'...  32.220600   77.18600   \n",
       "4121  ['Sanitizers', 'Face shields (for hotel staff)...  26.481755   74.56147   \n",
       "8671  ['Gloves', 'Sanitizers', 'Housekeeping', 'Air ...  11.464200   76.67910   \n",
       "\n",
       "     Price                                            Address  \n",
       "325    843                       Majhera, Pokhrad, Mukteshwar  \n",
       "6125  2628                                            Mungpoo  \n",
       "4612  2597                                       Kanyal Road,  \n",
       "4121  1072  Hotel Blue Lotus, Vamdev Road, Near Gurudawara...  \n",
       "8671  2693  8th Bend, Kalhatty, Ooty-Masinagudi Road, Ooty...  "
      ]
     },
     "execution_count": 73,
     "metadata": {},
     "output_type": "execute_result"
    }
   ],
   "source": [
    "# Get 10 hotels from top\n",
    "hotel_details_df.head(5)"
   ]
  },
  {
   "cell_type": "markdown",
   "id": "a1f8bd20",
   "metadata": {},
   "source": [
    "# Data Cleaning and transformations"
   ]
  },
  {
   "cell_type": "code",
   "execution_count": 74,
   "id": "87a825aa",
   "metadata": {
    "scrolled": true
   },
   "outputs": [],
   "source": [
    "# Get the dataframe information\n",
    "df=hotel_details_df.drop(columns=['Unnamed: 0'])"
   ]
  },
  {
   "cell_type": "code",
   "execution_count": 75,
   "id": "b6b24d9c",
   "metadata": {},
   "outputs": [],
   "source": [
    "hotel_df = df.dropna()"
   ]
  },
  {
   "cell_type": "code",
   "execution_count": 76,
   "id": "969dc597",
   "metadata": {},
   "outputs": [
    {
     "name": "stdout",
     "output_type": "stream",
     "text": [
      "There are 11628 rows and 7 columns\n"
     ]
    }
   ],
   "source": [
    "nRow, nCol = hotel_df.shape\n",
    "print(f'There are {nRow} rows and {nCol} columns')"
   ]
  },
  {
   "cell_type": "code",
   "execution_count": 77,
   "id": "5e731080",
   "metadata": {},
   "outputs": [
    {
     "name": "stdout",
     "output_type": "stream",
     "text": [
      "<class 'pandas.core.frame.DataFrame'>\n",
      "Index: 11628 entries, 325 to 7203\n",
      "Data columns (total 7 columns):\n",
      " #   Column     Non-Null Count  Dtype  \n",
      "---  ------     --------------  -----  \n",
      " 0   Code       11628 non-null  float64\n",
      " 1   City       11628 non-null  object \n",
      " 2   Amenities  11628 non-null  object \n",
      " 3   Latitude   11628 non-null  float64\n",
      " 4   Longitude  11628 non-null  float64\n",
      " 5   Price      11628 non-null  object \n",
      " 6   Address    11628 non-null  object \n",
      "dtypes: float64(3), object(4)\n",
      "memory usage: 726.8+ KB\n"
     ]
    }
   ],
   "source": [
    "hotel_df.info()"
   ]
  },
  {
   "cell_type": "code",
   "execution_count": 78,
   "id": "586b06b6",
   "metadata": {},
   "outputs": [
    {
     "data": {
      "text/html": [
       "<div>\n",
       "<style scoped>\n",
       "    .dataframe tbody tr th:only-of-type {\n",
       "        vertical-align: middle;\n",
       "    }\n",
       "\n",
       "    .dataframe tbody tr th {\n",
       "        vertical-align: top;\n",
       "    }\n",
       "\n",
       "    .dataframe thead th {\n",
       "        text-align: right;\n",
       "    }\n",
       "</style>\n",
       "<table border=\"1\" class=\"dataframe\">\n",
       "  <thead>\n",
       "    <tr style=\"text-align: right;\">\n",
       "      <th></th>\n",
       "      <th>Code</th>\n",
       "      <th>City</th>\n",
       "      <th>Amenities</th>\n",
       "      <th>Latitude</th>\n",
       "      <th>Longitude</th>\n",
       "      <th>Price</th>\n",
       "      <th>Address</th>\n",
       "    </tr>\n",
       "  </thead>\n",
       "  <tbody>\n",
       "    <tr>\n",
       "      <th>325</th>\n",
       "      <td>1.228340e+18</td>\n",
       "      <td>Mukteshwar</td>\n",
       "      <td>['Sanitizers', 'Thermal screening at entry and...</td>\n",
       "      <td>29.402700</td>\n",
       "      <td>79.62700</td>\n",
       "      <td>843.0</td>\n",
       "      <td>Majhera, Pokhrad, Mukteshwar</td>\n",
       "    </tr>\n",
       "    <tr>\n",
       "      <th>6125</th>\n",
       "      <td>5.312870e+18</td>\n",
       "      <td>Darjeeling</td>\n",
       "      <td>['Private Entrance ', 'Pickup/ Drop (Paid)', '...</td>\n",
       "      <td>26.977200</td>\n",
       "      <td>88.36240</td>\n",
       "      <td>2628.0</td>\n",
       "      <td>Mungpoo</td>\n",
       "    </tr>\n",
       "    <tr>\n",
       "      <th>4612</th>\n",
       "      <td>4.193170e+18</td>\n",
       "      <td>Manali</td>\n",
       "      <td>['Power backup', 'Wifi (Free)', 'Housekeeping'...</td>\n",
       "      <td>32.220600</td>\n",
       "      <td>77.18600</td>\n",
       "      <td>2597.0</td>\n",
       "      <td>Kanyal Road,</td>\n",
       "    </tr>\n",
       "    <tr>\n",
       "      <th>4121</th>\n",
       "      <td>3.844020e+18</td>\n",
       "      <td>Pushkar</td>\n",
       "      <td>['Sanitizers', 'Face shields (for hotel staff)...</td>\n",
       "      <td>26.481755</td>\n",
       "      <td>74.56147</td>\n",
       "      <td>1072.0</td>\n",
       "      <td>Hotel Blue Lotus, Vamdev Road, Near Gurudawara...</td>\n",
       "    </tr>\n",
       "    <tr>\n",
       "      <th>8671</th>\n",
       "      <td>7.113130e+18</td>\n",
       "      <td>Ooty</td>\n",
       "      <td>['Gloves', 'Sanitizers', 'Housekeeping', 'Air ...</td>\n",
       "      <td>11.464200</td>\n",
       "      <td>76.67910</td>\n",
       "      <td>2693.0</td>\n",
       "      <td>8th Bend, Kalhatty, Ooty-Masinagudi Road, Ooty...</td>\n",
       "    </tr>\n",
       "  </tbody>\n",
       "</table>\n",
       "</div>"
      ],
      "text/plain": [
       "              Code        City  \\\n",
       "325   1.228340e+18  Mukteshwar   \n",
       "6125  5.312870e+18  Darjeeling   \n",
       "4612  4.193170e+18      Manali   \n",
       "4121  3.844020e+18     Pushkar   \n",
       "8671  7.113130e+18        Ooty   \n",
       "\n",
       "                                              Amenities   Latitude  Longitude  \\\n",
       "325   ['Sanitizers', 'Thermal screening at entry and...  29.402700   79.62700   \n",
       "6125  ['Private Entrance ', 'Pickup/ Drop (Paid)', '...  26.977200   88.36240   \n",
       "4612  ['Power backup', 'Wifi (Free)', 'Housekeeping'...  32.220600   77.18600   \n",
       "4121  ['Sanitizers', 'Face shields (for hotel staff)...  26.481755   74.56147   \n",
       "8671  ['Gloves', 'Sanitizers', 'Housekeeping', 'Air ...  11.464200   76.67910   \n",
       "\n",
       "       Price                                            Address  \n",
       "325    843.0                       Majhera, Pokhrad, Mukteshwar  \n",
       "6125  2628.0                                            Mungpoo  \n",
       "4612  2597.0                                       Kanyal Road,  \n",
       "4121  1072.0  Hotel Blue Lotus, Vamdev Road, Near Gurudawara...  \n",
       "8671  2693.0  8th Bend, Kalhatty, Ooty-Masinagudi Road, Ooty...  "
      ]
     },
     "execution_count": 78,
     "metadata": {},
     "output_type": "execute_result"
    }
   ],
   "source": [
    "# Convert 'Price' column to numeric, coerce errors to NaN for non-convertible values\n",
    "hotel_df['Price'] = pd.to_numeric(hotel_df['Price'], errors='coerce')\n",
    "hotel_df.head()"
   ]
  },
  {
   "cell_type": "markdown",
   "id": "10fa0de3",
   "metadata": {},
   "source": [
    "# Histogram Plot"
   ]
  },
  {
   "cell_type": "code",
   "execution_count": 79,
   "id": "ec7e8f07",
   "metadata": {},
   "outputs": [
    {
     "data": {
      "image/png": "[encoded data removed]",
      "text/plain": [
       "<Figure size 2000x1500 with 4 Axes>"
      ]
     },
     "metadata": {},
     "output_type": "display_data"
    }
   ],
   "source": [
    "hotel_df.hist(bins=50, figsize=(20,15));"
   ]
  },
  {
   "cell_type": "markdown",
   "id": "78791adc",
   "metadata": {},
   "source": [
    "# Recommender system based only on city and price about the Hotel"
   ]
  },
  {
   "cell_type": "code",
   "execution_count": 80,
   "id": "af81f8da",
   "metadata": {},
   "outputs": [
    {
     "data": {
      "text/plain": [
       "Index(['Code', 'City', 'Amenities', 'Latitude', 'Longitude', 'Price',\n",
       "       'Address'],\n",
       "      dtype='object')"
      ]
     },
     "execution_count": 80,
     "metadata": {},
     "output_type": "execute_result"
    }
   ],
   "source": [
    "hotel_df.columns"
   ]
  },
  {
   "cell_type": "code",
   "execution_count": 81,
   "id": "ecf9db40",
   "metadata": {},
   "outputs": [],
   "source": [
    "def citybased(city):\n",
    "    hotel_df['City']=hotel_df['City'].str.lower()\n",
    "    citybase=hotel_df[hotel_df['City']==city.lower()]\n",
    "    citybase=citybase.sort_values(by='Price',ascending=False)\n",
    "    citybase.drop_duplicates(subset='Code',keep='first',inplace=True)\n",
    "    if(citybase.empty==0):\n",
    "        hname=citybase[['Price','Address','Amenities']]\n",
    "        return hname.head()\n",
    "    else:\n",
    "        print('No Hotels Available')"
   ]
  },
  {
   "cell_type": "code",
   "execution_count": 82,
   "id": "155bfd21",
   "metadata": {},
   "outputs": [
    {
     "name": "stdout",
     "output_type": "stream",
     "text": [
      "Top 5 hotels\n"
     ]
    },
    {
     "data": {
      "text/html": [
       "<div>\n",
       "<style scoped>\n",
       "    .dataframe tbody tr th:only-of-type {\n",
       "        vertical-align: middle;\n",
       "    }\n",
       "\n",
       "    .dataframe tbody tr th {\n",
       "        vertical-align: top;\n",
       "    }\n",
       "\n",
       "    .dataframe thead th {\n",
       "        text-align: right;\n",
       "    }\n",
       "</style>\n",
       "<table border=\"1\" class=\"dataframe\">\n",
       "  <thead>\n",
       "    <tr style=\"text-align: right;\">\n",
       "      <th></th>\n",
       "      <th>Price</th>\n",
       "      <th>Address</th>\n",
       "      <th>Amenities</th>\n",
       "    </tr>\n",
       "  </thead>\n",
       "  <tbody>\n",
       "    <tr>\n",
       "      <th>4396</th>\n",
       "      <td>23670.0</td>\n",
       "      <td>P.O. and VILLAGE TAMSANG BIJANBARI,Darjeeling</td>\n",
       "      <td>['Sanitizers', 'Power backup', 'Housekeeping',...</td>\n",
       "    </tr>\n",
       "    <tr>\n",
       "      <th>9863</th>\n",
       "      <td>23000.0</td>\n",
       "      <td>Pankhabari Road Makaibari Tea Estate, Kurseong</td>\n",
       "      <td>['Masks', 'Disinfectant wipes', 'Gloves', 'San...</td>\n",
       "    </tr>\n",
       "    <tr>\n",
       "      <th>11130</th>\n",
       "      <td>22006.0</td>\n",
       "      <td>Pokhribong Khasmahal, Sukhia Pukhari</td>\n",
       "      <td>['Masks', 'Gloves', 'Sanitizers', 'Thermal scr...</td>\n",
       "    </tr>\n",
       "    <tr>\n",
       "      <th>6031</th>\n",
       "      <td>11500.0</td>\n",
       "      <td>Ramada Darjeeling\\r\\n2-3 Auckland Villa\\r\\nGan...</td>\n",
       "      <td>['Sanitizers', 'Thermal screening at entry and...</td>\n",
       "    </tr>\n",
       "    <tr>\n",
       "      <th>6761</th>\n",
       "      <td>9692.0</td>\n",
       "      <td>7/a, Kutchery Rd, Chauk Bazaar, Darjeeling, We...</td>\n",
       "      <td>['Sanitizers', 'Thermal screening at entry and...</td>\n",
       "    </tr>\n",
       "  </tbody>\n",
       "</table>\n",
       "</div>"
      ],
      "text/plain": [
       "         Price                                            Address  \\\n",
       "4396   23670.0      P.O. and VILLAGE TAMSANG BIJANBARI,Darjeeling   \n",
       "9863   23000.0     Pankhabari Road Makaibari Tea Estate, Kurseong   \n",
       "11130  22006.0               Pokhribong Khasmahal, Sukhia Pukhari   \n",
       "6031   11500.0  Ramada Darjeeling\\r\\n2-3 Auckland Villa\\r\\nGan...   \n",
       "6761    9692.0  7/a, Kutchery Rd, Chauk Bazaar, Darjeeling, We...   \n",
       "\n",
       "                                               Amenities  \n",
       "4396   ['Sanitizers', 'Power backup', 'Housekeeping',...  \n",
       "9863   ['Masks', 'Disinfectant wipes', 'Gloves', 'San...  \n",
       "11130  ['Masks', 'Gloves', 'Sanitizers', 'Thermal scr...  \n",
       "6031   ['Sanitizers', 'Thermal screening at entry and...  \n",
       "6761   ['Sanitizers', 'Thermal screening at entry and...  "
      ]
     },
     "execution_count": 82,
     "metadata": {},
     "output_type": "execute_result"
    }
   ],
   "source": [
    "print('Top 5 hotels')\n",
    "citybased(\"Darjeeling\")"
   ]
  },
  {
   "cell_type": "code",
   "execution_count": 99,
   "id": "7b029cf0",
   "metadata": {},
   "outputs": [],
   "source": [
    "import ast\n",
    "\n",
    "def preprocess_data(df):\n",
    "    # Convert 'Price' to numeric\n",
    "    df['Price'] = pd.to_numeric(df['Price'], errors='coerce')\n",
    "\n",
    "    # Handle missing values in 'Price' column (replace with mean or median)\n",
    "    #df['Price'].fillna(df['Price'].median(), inplace=True)\n",
    "    \n",
    "    # Convert the string representation of a list to a list\n",
    "    df['Amenities'] = hotel_df['Amenities'].apply(lambda x: ast.literal_eval(x) if isinstance(x, str) else x)\n",
    "\n",
    "    # You may want to process the amenities list further or use it differently in your model\n",
    "    # For example, you can create binary columns for each amenity, indicating its presence\n",
    "    # Assuming 'amenity' is a placeholder for an actual amenity name\n",
    "    df['amenity'] = hotel_df['Amenities'].apply(lambda amenities: 1 if 'amenity' in amenities else 0)\n",
    "\n",
    "\n",
    "    # Drop rows where 'Price' is NaN after conversion\n",
    "    df = hotel_df.dropna(subset=['Price'])\n",
    "\n",
    "    return df"
   ]
  },
  {
   "cell_type": "code",
   "execution_count": 100,
   "id": "c6377a43",
   "metadata": {},
   "outputs": [],
   "source": [
    "def train_model(X_train, y_train, model_type='knn', n_neighbors=5):\n",
    "    if model_type == 'random_forest':\n",
    "        model = RandomForestRegressor()\n",
    "    elif model_type == 'knn':\n",
    "        model = KNeighborsRegressor(n_neighbors=n_neighbors)\n",
    "    else:\n",
    "        raise ValueError(\"Invalid model type. Choose 'random_forest' or 'knn'.\")\n",
    "\n",
    "    model.fit(X_train, y_train)\n",
    "    return model"
   ]
  },
  {
   "cell_type": "code",
   "execution_count": 108,
   "id": "ea4a808f",
   "metadata": {},
   "outputs": [],
   "source": [
    "def evaluate_model(model, X_test, y_test):\n",
    "    y_pred = model.predict(X_test)\n",
    "    mse = mean_squared_error(y_test, y_pred)\n",
    "    print(f'Mean Squared Error: {mse}')"
   ]
  },
  {
   "cell_type": "code",
   "execution_count": null,
   "id": "40d0ffa0",
   "metadata": {
    "scrolled": false
   },
   "outputs": [],
   "source": [
    "def make_recommendations(model, user_input, feature_cols):\n",
    "    recommendations = model.predict(user_input)\n",
    "    print(recommendations)\n",
    "\n",
    "# Load and preprocess your dataset\n",
    "df_hotels = pd.read_csv('Hotel_Info/Hotel_Info.csv') \n",
    "df_hotels = preprocess_data(df_hotels)\n",
    "\n",
    "# Specify features and target variable\n",
    "feature_cols = ['Amenities', 'City', 'Price']\n",
    "X = df_hotels[feature_cols]\n",
    "y = df_hotels['Price']  # Replace 'TargetVariable' with your target variable\n",
    "\n",
    "# Split the data into training and testing sets\n",
    "X_train, X_test, y_train, y_test = train_test_split(X, y, test_size=0.2, random_state=42)\n",
    "\n",
    "# Train a machine learning model (k-NN in this case)\n",
    "model = train_model(X_train, y_train, model_type='knn', n_neighbors=5)\n",
    "\n",
    "# Evaluate the model\n",
    "evaluate_model(model, X_test, y_test)\n",
    "\n",
    "# Use the trained model for recommendations based on user input\n",
    "user_input = pd.DataFrame([['Sanitizers', 'Darjeeling', 2000]], columns=feature_cols)\n",
    "make_recommendations(model, user_input, feature_cols)"
   ]
  }
 ],
 "metadata": {
  "kernelspec": {
   "display_name": "Python 3 (ipykernel)",
   "language": "python",
   "name": "python3"
  },
  "language_info": {
   "codemirror_mode": {
    "name": "ipython",
    "version": 3
   },
   "file_extension": ".py",
   "mimetype": "text/x-python",
   "name": "python",
   "nbconvert_exporter": "python",
   "pygments_lexer": "ipython3",
   "version": "3.11.5"
  }
 },
 "nbformat": 4,
 "nbformat_minor": 5
}
